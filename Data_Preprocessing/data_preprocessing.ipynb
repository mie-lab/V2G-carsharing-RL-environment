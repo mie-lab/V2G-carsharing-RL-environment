{
 "cells": [
  {
   "cell_type": "code",
   "execution_count": 1,
   "id": "5cfd09ad-072a-4399-9293-db8b237c8e0d",
   "metadata": {},
   "outputs": [
    {
     "name": "stderr",
     "output_type": "stream",
     "text": [
      "C:\\Users\\domin\\anaconda3\\envs\\car_sharing_env\\lib\\site-packages\\geopandas\\_compat.py:123: UserWarning: The Shapely GEOS version (3.8.0-CAPI-1.13.1 ) is incompatible with the GEOS version PyGEOS was compiled with (3.10.4-CAPI-1.16.2). Conversions between both will be slow.\n",
      "  warnings.warn(\n"
     ]
    }
   ],
   "source": [
    "import geopandas as gpd\n",
    "import pandas as pd\n",
    "from sqlalchemy import create_engine\n",
    "import datetime\n",
    "import json\n",
    "import psycopg2\n",
    "\n",
    "# load the credentials from the JSON file\n",
    "with open('config/credentials.json') as f:\n",
    "    credentials = json.load(f)\n",
    "\n",
    "connection_string = f\"postgresql://{credentials['username']}:{credentials['password']}@{credentials['host']}:{credentials['port']}/{credentials['database_name']}\"\n",
    "\n",
    "# create the engine with the connection string\n",
    "engine = create_engine(connection_string)\n"
   ]
  },
  {
   "cell_type": "code",
   "execution_count": null,
   "id": "570f36b7-63be-466d-a51a-0e6835256368",
   "metadata": {},
   "outputs": [],
   "source": [
    "### pre-processing of reservation table: ###\n",
    "# reservationfrom_discrete: discretize reservationfrom to 15 minutes \n",
    "# reservationto_discrete: discretize reservationto to 15 minutes \n",
    "# syscreatedate_discrete: discretize syscreatedate to 15 minutes \n",
    "# time_booking_to_bookingstart: time difference between syscreatedate and reservationfrom, in 15 min units\n",
    "# reservation_duration: time difference between reservationfrom_discrete and reservationto_discrete, in 15 min units\n",
    "# syscreatedate_daytime: time of the day of syscreatedate, in 15 min units\n",
    "# reservationfrom_daytime: time of the day of reservationfrom, in 15 min units\n",
    "# reservationto_daytime: time of the day of reservationto, in 15 min units\n",
    "# booking_trip_same_day: boolean wether a trip was reserved on the same day as the trip or not\n",
    "\n",
    "sql = \"\"\"WITH stations AS (\n",
    "SELECT *,\n",
    "(timestamp 'epoch' + (((EXTRACT(epoch FROM TO_TIMESTAMP(syscreatedate, 'YYYY-MM-DD HH24:MI:SS.MS'))::int + 450) / 900) * 900) * INTERVAL '1 second') as syscreatedate_discrete,\n",
    "(timestamp 'epoch' + (((EXTRACT(epoch FROM TO_TIMESTAMP(reservationfrom, 'YYYY-MM-DD HH24:MI:SS.MS'))::int + 450) / 900) * 900) * INTERVAL '1 second') as reservationfrom_discrete,\n",
    "(timestamp 'epoch' + (((EXTRACT(epoch FROM TO_TIMESTAMP(reservationto, 'YYYY-MM-DD HH24:MI:SS.MS'))::int + 450) / 900) * 900) * INTERVAL '1 second') as reservationto_discrete\n",
    "FROM mobility.reservation \n",
    ")\n",
    "SELECT *, \n",
    "EXTRACT(epoch FROM (reservationfrom_discrete - syscreatedate_discrete)) / 900 AS time_booking_to_bookingstart,\n",
    "EXTRACT(epoch FROM (reservationto_discrete - reservationfrom_discrete)) / 900 AS reservation_duration\n",
    "FROM stations\n",
    "ORDER BY reservationfrom   \n",
    "\"\"\"\n",
    "\n",
    "data = pd.read_sql(sql, engine)\n",
    "data[\"syscreatedate_daytime\"] = data.syscreatedate_discrete.apply(lambda x: x.hour) * 4 + data.syscreatedate_discrete.apply(lambda x: x.minute) / 15\n",
    "data[\"reservationfrom_daytime\"] = data.reservationfrom_discrete.apply(lambda x: x.hour) * 4 + data.reservationfrom_discrete.apply(lambda x: x.minute) / 15\n",
    "data[\"reservationto_daytime\"] = data.reservationto_discrete.apply(lambda x: x.hour) * 4 + data.reservationto_discrete.apply(lambda x: x.minute) / 15\n",
    "data[\"syscreatedate_discrete_date\"] = pd.to_datetime(data['syscreatedate_discrete']).dt.date \n",
    "data[\"reservationfrom_discrete_date\"] = pd.to_datetime(data['reservationfrom_discrete']).dt.date \n",
    "data[\"booking_trip_same_day\"] = data[\"reservationfrom_discrete_date\"] == data[\"syscreatedate_discrete_date\"] \n",
    "data[\"syscreatedate_daytime_endofday\"] = data[\"syscreatedate_daytime\"]\n",
    "data[\"reservationfrom_daytime_endofday\"] = data[\"reservationfrom_daytime\"]\n",
    "data[\"reservationto_daytime_endofday\"]  = data[\"reservationto_daytime\"] \n",
    "\n",
    "cond = data[\"reservationfrom_discrete_date\"] > data[\"syscreatedate_discrete_date\"] \n",
    "data.loc[cond, \"syscreatedate_daytime\"] = 0\n",
    "\n",
    "cond = data[\"reservationfrom_discrete_date\"] <= data[\"syscreatedate_discrete_date\"] \n",
    "data.loc[cond, \"syscreatedate_daytime_endofday\"] = 96\n",
    "\n",
    "cond = data[\"reservationfrom_discrete_date\"] > data[\"syscreatedate_discrete_date\"] + pd.Timedelta(days=1)\n",
    "data.loc[cond, \"syscreatedate_daytime_endofday\"] = 0\n",
    "\n",
    "cond = data[\"reservationfrom_daytime_endofday\"] == 0\n",
    "data.loc[cond, \"reservationfrom_daytime_endofday\"] = 96\n",
    "\n",
    "\n",
    "cond2 = data[\"reservationfrom_discrete\"] < data[\"syscreatedate_discrete\"] \n",
    "data.loc[cond2, \"syscreatedate_daytime_endofday\"] = data[\"reservationfrom_daytime_endofday\"]\n",
    "\n",
    "\n",
    "cond2 = data[\"reservationfrom_discrete\"] < data[\"syscreatedate_discrete\"] \n",
    "data.loc[cond2, \"syscreatedate_daytime\"] = data[\"reservationfrom_daytime\"]\n",
    "\n",
    "data.to_sql(\"reservations_discrete\", engine, schema=\"msc_2023_dominik\", if_exists='replace')\n",
    "data.head()"
   ]
  },
  {
   "cell_type": "code",
   "execution_count": 40,
   "id": "21d69264-b06a-41d1-aeed-bcf09c6e8f16",
   "metadata": {},
   "outputs": [],
   "source": [
    "### create indices for fast data loading in environment ###\n",
    "conn = psycopg2.connect(dbname=credentials['database_name'], user=credentials['username'], password=credentials['password'], host=credentials['host'])\n",
    "cur = conn.cursor()\n",
    "#cur.execute(\"CREATE INDEX reservationfrom_discrete_date ON msc_2023_dominik.reservations_discrete USING hash(reservationfrom_discrete_date)\")\n",
    "#cur.execute(\"CREATE INDEX reservationfrom_discrete_index_b_tree ON msc_2023_dominik.reservations_discrete (reservationfrom_discrete)\")\n",
    "#for i in range(0,83):\n",
    "#    cur.execute(\"CREATE INDEX vehicle_no_b_tree_index_week_{} ON msc_2023_dominik.discrete_weeks_{} (vehicle_no)\".format(i,i))\n",
    "    \n",
    "conn.commit()\n",
    "cur.close()\n",
    "conn.close()"
   ]
  },
  {
   "cell_type": "code",
   "execution_count": 8,
   "id": "0518f7cd-c0e9-427e-ba37-6b443cd3c6c2",
   "metadata": {},
   "outputs": [],
   "source": [
    "### pre-processing of station tables: ###\n",
    "# Contains all stations in the mobility.station table with valid geometry, that were used during the \n",
    "# observation period for bookings (mobility.reservation and mobility.service_reservation)\n",
    "\n",
    "sql = \"WITH stations AS (SELECT DISTINCT start_station_no FROM (SELECT DISTINCT start_station_no FROM mobility.reservation UNION SELECT DISTINCT start_station_no FROM mobility.service_reservation) AS station_union) SELECT station_no, ST_Transform(ST_SetSRID(geom,4326), 2056) AS geom FROM stations LEFT OUTER JOIN mobility.station ON start_station_no = station_no WHERE geom is not NULL\"\n",
    "gdf = gpd.read_postgis(sql, engine, geom_col='geom',crs = \"EPSG:2056\")\n",
    "gdf.to_postgis(\"distinct_stations\", engine, schema=\"msc_2023_dominik\", if_exists='replace')  "
   ]
  },
  {
   "cell_type": "code",
   "execution_count": 18,
   "id": "638b1cb4-0d61-4a64-a76d-ecd3053ab622",
   "metadata": {},
   "outputs": [
    {
     "data": {
      "text/plain": [
       "233"
      ]
     },
     "execution_count": 18,
     "metadata": {},
     "output_type": "execute_result"
    }
   ],
   "source": [
    "### pre-processing of vehicle tables: ###\n",
    "# get information about each car used in the discrete tables\n",
    "# replace some car types, which are not used anymore (Budget Electro by Budget, Combi Electro by Combi)\n",
    "sql = \"\"\"SELECT vehicle_no, mobility.simulated_ev.model_name, mobility.simulated_ev.brand_name, charge_power, battery_capacity, range, vehicle_category \n",
    "         FROM mobility.simulated_ev \n",
    "         FULL OUTER JOIN mobility.vehicle USING (vehicle_no) \n",
    "         RIGHT OUTER JOIN discrete_mobility.discrete_weeks_0 using (vehicle_no)\"\"\"\n",
    "data = pd.read_sql(sql, engine)\n",
    "data = data.replace([\"Budget Electro\"], 'Budget')\n",
    "data = data.replace(['Combi Electro'], 'Combi')\n",
    "data.to_sql(\"vehicles_preprocessing\", engine, schema=\"msc_2023_dominik\", if_exists='replace')\n",
    "\n",
    "### vehicle types: ###\n",
    "# get car information for each category\n",
    "sql = \"\"\"WITH vehicles AS (\n",
    "                            SELECT *\n",
    "                            FROM msc_2023_dominik.vehicles_preprocessing \n",
    "        )\n",
    "        SELECT model_name, brand_name, charge_power, battery_capacity, range, vehicle_category \n",
    "        FROM vehicles\n",
    "        WHERE model_name IS NOT NULL\n",
    "        GROUP by model_name, brand_name, charge_power, battery_capacity, range, vehicle_category \n",
    "        ORDER BY vehicle_category\"\"\"\n",
    "data = pd.read_sql(sql, engine)\n",
    "data.to_sql(\"vehicles_types\", engine, schema=\"msc_2023_dominik\", if_exists='replace')\n",
    "\n",
    "### Vehicle Information table: ###\n",
    "# create final vehicle information table; containing all vehicle informatino for each car in the discrete tables\n",
    "sql = \"\"\"\n",
    "WITH vehicles AS (\n",
    "    SELECT vehicle_no, vehicle_category\n",
    "    FROM msc_2023_dominik.vehicles_preprocessing \n",
    "), \n",
    "vehicle_categories AS (\n",
    "    SELECT *\n",
    "    FROM msc_2023_dominik.vehicles_types\n",
    ")\n",
    "SELECT *\n",
    "FROM vehicles JOIN vehicle_categories USING(vehicle_category)\n",
    "\"\"\"\n",
    "data = pd.read_sql(sql, engine)\n",
    "data = data.drop([\"index\"], axis = 1)\n",
    "data.to_sql(\"vehicle_information\", engine, schema=\"msc_2023_dominik\", if_exists='replace')"
   ]
  }
 ],
 "metadata": {
  "kernelspec": {
   "display_name": "Python 3 (ipykernel)",
   "language": "python",
   "name": "python3"
  },
  "language_info": {
   "codemirror_mode": {
    "name": "ipython",
    "version": 3
   },
   "file_extension": ".py",
   "mimetype": "text/x-python",
   "name": "python",
   "nbconvert_exporter": "python",
   "pygments_lexer": "ipython3",
   "version": "3.9.16"
  }
 },
 "nbformat": 4,
 "nbformat_minor": 5
}
